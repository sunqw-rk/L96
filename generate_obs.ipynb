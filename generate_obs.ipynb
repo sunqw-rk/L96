{
 "cells": [
  {
   "cell_type": "code",
   "execution_count": 1,
   "metadata": {
    "scrolled": false
   },
   "outputs": [
    {
     "name": "stdout",
     "output_type": "stream",
     "text": [
      "xdim = 40\n",
      "maxit =  146001\n",
      "standard deviation of each state = \n",
      "[ 3.63021909  3.61579034  3.62941381  3.65289597  3.6430758   3.64052277\n",
      "  3.64368599  3.63849716  3.61647493  3.65463743  3.65123503  3.62078027\n",
      "  3.64757203  3.66025854  3.6326524   3.63382179  3.6375508   3.64541518\n",
      "  3.60873048  3.65314155  3.65178346  3.64499275  3.64122138  3.67012413\n",
      "  3.64351273  3.6279942   3.60200952  3.63343998  3.64388494  3.63995864\n",
      "  3.61080131  3.60741522  3.63857026  3.63454512  3.64335455  3.66199997\n",
      "  3.64838266  3.64814049  3.65478865  3.65014421]\n",
      "observe_full_state\n",
      "Position:\n",
      "[[ 0  0  0 ...,  0  0  0]\n",
      " [ 1  1  1 ...,  1  1  1]\n",
      " [ 2  2  2 ...,  2  2  2]\n",
      " ..., \n",
      " [37 37 37 ..., 37 37 37]\n",
      " [38 38 38 ..., 38 38 38]\n",
      " [39 39 39 ..., 39 39 39]]\n",
      "Time interval:\n",
      "[0]\n",
      "values:\n",
      "[[  2.92775459  -0.96300199   1.9463098  ...,   2.40525708   2.25140612\n",
      "    2.59590227]\n",
      " [  8.66429657   8.3039434   10.08211919 ...,   3.70614198   4.04367369\n",
      "    4.86985277]\n",
      " [  6.42630042   7.02834245   7.44002738 ...,   7.53433785   7.74392624\n",
      "    6.93077647]\n",
      " ..., \n",
      " [  6.88458717   4.48276546   4.16907642 ...,   1.23882113   2.632082\n",
      "    5.44397844]\n",
      " [ -1.49334042  -6.11024586  -4.26198878 ...,   4.02477495   3.12625398\n",
      "    2.79729574]\n",
      " [ -2.10635632  -1.71159219  -0.02818992 ...,   4.4857262    3.75712828\n",
      "    3.63292257]]\n",
      "observe_full_state\n"
     ]
    }
   ],
   "source": [
    "import numpy as np\n",
    "from class_state_vec import state_vector\n",
    "from class_obs import obs_da\n",
    "import random as rd\n",
    "import pandas as pd\n",
    "\n",
    "infile = 'lorenz96_run.pkl'\n",
    "sv = state_vector()\n",
    "sv = sv.load(infile)\n",
    "x_nature = sv.getTrajectory()\n",
    "x_nature = x_nature[:,::5]\n",
    "xdim, maxit = np.shape(x_nature)\n",
    "print('xdim =', xdim)    #row\n",
    "print('maxit = ', maxit) #column\n",
    "\n",
    "outfile = 'y_obs.pkl'\n",
    "obs = obs_da(name = 'observe_full_state')\n",
    "yo = np.zeros_like(x_nature)\n",
    "std_nature = np.zeros(xdim)\n",
    "\n",
    "#compute the standard deviation of each state\n",
    "\n",
    "for i in range(xdim):\n",
    "    std_nature[i] = np.std(x_nature[i,:])\n",
    "    \n",
    "print('standard deviation of each state = ')\n",
    "print(std_nature)\n",
    "\n",
    "#generate synthetic observations\n",
    "\n",
    "for i in range(xdim):\n",
    "    #yo[i,:] = x_nature[i,:] + np.random.normal(0,std_nature[i],maxit)\n",
    "    yo[i,:] = x_nature[i,:] + np.random.normal(0,1,maxit)\n",
    "    \n",
    "\n",
    "pos = np.zeros_like(yo)\n",
    "for i in range(maxit):\n",
    "    pos[:,i] = list(range(0,40))\n",
    "\n",
    "obs.setVal(yo)\n",
    "obs.setPos(pos)\n",
    "\n",
    "print(obs)\n",
    "\n",
    "#--------------------------------------------------------------------------------\n",
    "# Store the true and noisy observations\n",
    "#--------------------------------------------------------------------------------\n",
    "obs.save(outfile)\n",
    "\n",
    "\n"
   ]
  },
  {
   "cell_type": "code",
   "execution_count": null,
   "metadata": {},
   "outputs": [],
   "source": []
  }
 ],
 "metadata": {
  "kernelspec": {
   "display_name": "Python 3",
   "language": "python",
   "name": "python3"
  },
  "language_info": {
   "codemirror_mode": {
    "name": "ipython",
    "version": 3
   },
   "file_extension": ".py",
   "mimetype": "text/x-python",
   "name": "python",
   "nbconvert_exporter": "python",
   "pygments_lexer": "ipython3",
   "version": "3.6.5"
  }
 },
 "nbformat": 4,
 "nbformat_minor": 4
}

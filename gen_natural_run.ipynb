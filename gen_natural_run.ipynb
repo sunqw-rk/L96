{
 "cells": [
  {
   "cell_type": "code",
   "execution_count": 1,
   "metadata": {
    "scrolled": true
   },
   "outputs": [
    {
     "name": "stdout",
     "output_type": "stream",
     "text": [
      "[ 7.58324215  7.94373317  5.8638039   9.64027081  6.20656441  7.15825263\n",
      "  8.50288142  6.75471191  6.94204778  7.09099239  8.55145404 10.29220801\n",
      "  8.04153939  6.88207455  8.53905832  7.4038403   7.9808695   9.17500122\n",
      "  7.25212905  8.00902525  7.12189211  7.84356583  8.25657045  7.01122095\n",
      "  7.66117803  7.76381597  7.36234499  6.81238771  6.57878277  7.8465048\n",
      "  7.73094304 10.23136679  5.56523242  8.1127265   8.37044454  9.35963386\n",
      "  8.50185721  7.1557863   8.00000976  8.54235257]\n"
     ]
    },
    {
     "ename": "NameError",
     "evalue": "name 'stop' is not defined",
     "output_type": "error",
     "traceback": [
      "\u001b[1;31m---------------------------------------------------------------------------\u001b[0m",
      "\u001b[1;31mNameError\u001b[0m                                 Traceback (most recent call last)",
      "Cell \u001b[1;32mIn[1], line 30\u001b[0m\n\u001b[0;32m     27\u001b[0m sv \u001b[38;5;241m=\u001b[39m state_vector(al\u001b[38;5;241m=\u001b[39mx0, t\u001b[38;5;241m=\u001b[39mnp\u001b[38;5;241m.\u001b[39marange(t0, t1\u001b[38;5;241m-\u001b[39m\u001b[38;5;241m730\u001b[39m, dt_output), name\u001b[38;5;241m=\u001b[39mname)  \u001b[38;5;66;03m#.....................\u001b[39;00m\n\u001b[0;32m     29\u001b[0m smd \u001b[38;5;241m=\u001b[39m LORENZ96(N \u001b[38;5;241m=\u001b[39m \u001b[38;5;241m40\u001b[39m, F \u001b[38;5;241m=\u001b[39m \u001b[38;5;241m8\u001b[39m)\n\u001b[1;32m---> 30\u001b[0m stop \u001b[38;5;66;03m# Since it takes time to generate data, so I save the data and you can use it if you copy them. If you want to generate them by your self you can remove # following.\u001b[39;00m\n\u001b[0;32m     32\u001b[0m \u001b[38;5;28mprint\u001b[39m(\u001b[38;5;124m'\u001b[39m\u001b[38;5;124mRun Lorenz96 model\u001b[39m\u001b[38;5;124m'\u001b[39m)\n\u001b[0;32m     33\u001b[0m trajectory \u001b[38;5;241m=\u001b[39m smd\u001b[38;5;241m.\u001b[39mrun_rk4(t0,t1,dt, x0)\n",
      "\u001b[1;31mNameError\u001b[0m: name 'stop' is not defined"
     ]
    }
   ],
   "source": [
    "from class_lorenz96_mdl import LORENZ96\n",
    "from class_state_vec import state_vector\n",
    "import matplotlib.pyplot as plt\n",
    "import numpy as np\n",
    "import math\n",
    "import random\n",
    "\n",
    "name = 'lorenz96_run'\n",
    "\n",
    "t0=0\n",
    "t1 = 8030   #ending time point, 1 is 5 days, 8030*5 = 110 years   73730*5 = 1010 years\n",
    "dt=0.005\n",
    "dt_output = 0.01 # print the value for each 6/5 hours\n",
    "\n",
    "F = 8\n",
    "N = 40\n",
    "np.random.seed(2)\n",
    "x0 = F + np.random.normal(0,1,N)\n",
    "print(x0)\n",
    "\n",
    "\n",
    "tvec = np.arange(t0, t1, dt)\n",
    "t_output = np.arange(t0+730, t1, dt_output) #730 is 10 years, throw the first ten years' results\n",
    "time = t_output\n",
    "\n",
    "\n",
    "sv = state_vector(al=x0, t=np.arange(t0, t1-730, dt_output), name=name)  #.....................\n",
    "\n",
    "smd = LORENZ96(N = 40, F = 8)\n",
    "stop # Since it takes time to generate data, so I save the data and you can use it if you copy them. If you want to generate them by your self you can remove # following.\n",
    "\n",
    "print('Run Lorenz96 model')\n",
    "trajectory = smd.run_rk4(t0,t1,dt, x0)\n",
    "\n",
    "print(len(trajectory))\n",
    "print(len(trajectory[0,:]))\n",
    "\n",
    "trajectory_flatten = trajectory.flatten()\n",
    "\n",
    "#------------------------------------------------------------------\n",
    "# Store the nature run data\n",
    "#------------------------------------------------------------------\n",
    "#outfile = name+'.pkl'\n",
    "#sv.save(outfile)\n",
    "\n"
   ]
  },
  {
   "cell_type": "code",
   "execution_count": 3,
   "metadata": {},
   "outputs": [],
   "source": [
    "infile = 'lorenz96_run.pkl'\n",
    "sv = state_vector()\n",
    "sv = sv.load(infile)\n",
    "trajectory = sv.getTrajectory()"
   ]
  },
  {
   "cell_type": "code",
   "execution_count": 4,
   "metadata": {},
   "outputs": [
    {
     "data": {
      "text/plain": [
       "(40, 730001)"
      ]
     },
     "execution_count": 4,
     "metadata": {},
     "output_type": "execute_result"
    }
   ],
   "source": [
    "np.shape(trajectory) # 730000/100/365=20, so the data is for the last 100 years and every 6/5 hours, you can use the every 6 hours data also."
   ]
  }
 ],
 "metadata": {
  "kernelspec": {
   "display_name": "Python 3 (ipykernel)",
   "language": "python",
   "name": "python3"
  },
  "language_info": {
   "codemirror_mode": {
    "name": "ipython",
    "version": 3
   },
   "file_extension": ".py",
   "mimetype": "text/x-python",
   "name": "python",
   "nbconvert_exporter": "python",
   "pygments_lexer": "ipython3",
   "version": "3.11.3"
  }
 },
 "nbformat": 4,
 "nbformat_minor": 4
}
